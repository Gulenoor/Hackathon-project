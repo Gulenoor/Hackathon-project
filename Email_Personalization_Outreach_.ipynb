{
  "cells": [
    {
      "cell_type": "markdown",
      "metadata": {
        "id": "view-in-github",
        "colab_type": "text"
      },
      "source": [
        "<a href=\"https://colab.research.google.com/github/Gulenoor/Hackathon-project/blob/main/Email_Personalization_Outreach_.ipynb\" target=\"_parent\"><img src=\"https://colab.research.google.com/assets/colab-badge.svg\" alt=\"Open In Colab\"/></a>"
      ]
    },
    {
      "cell_type": "markdown",
      "metadata": {
        "id": "9a9-l634HM96"
      },
      "source": [
        "# Tools for a Customer Outreach Campaign"
      ]
    },
    {
      "cell_type": "code",
      "execution_count": 1,
      "metadata": {
        "colab": {
          "base_uri": "https://localhost:8080/"
        },
        "collapsed": true,
        "id": "VEfN-cpqHcBW",
        "outputId": "f7eed40c-3238-4b7e-e09a-a1bc6b6ee321"
      },
      "outputs": [
        {
          "output_type": "stream",
          "name": "stdout",
          "text": [
            "\u001b[2K     \u001b[90m━━━━━━━━━━━━━━━━━━━━━━━━━━━━━━━━━━━━━━━━\u001b[0m \u001b[32m40.9/40.9 kB\u001b[0m \u001b[31m725.1 kB/s\u001b[0m eta \u001b[36m0:00:00\u001b[0m\n",
            "\u001b[2K     \u001b[90m━━━━━━━━━━━━━━━━━━━━━━━━━━━━━━━━━━━━━━━━\u001b[0m \u001b[32m67.3/67.3 kB\u001b[0m \u001b[31m1.9 MB/s\u001b[0m eta \u001b[36m0:00:00\u001b[0m\n",
            "\u001b[?25h  Installing build dependencies ... \u001b[?25l\u001b[?25hdone\n",
            "  Getting requirements to build wheel ... \u001b[?25l\u001b[?25hdone\n",
            "  Preparing metadata (pyproject.toml) ... \u001b[?25l\u001b[?25hdone\n",
            "\u001b[2K     \u001b[90m━━━━━━━━━━━━━━━━━━━━━━━━━━━━━━━━━━━━━━━━\u001b[0m \u001b[32m50.4/50.4 kB\u001b[0m \u001b[31m3.4 MB/s\u001b[0m eta \u001b[36m0:00:00\u001b[0m\n",
            "\u001b[?25h\u001b[33mWARNING: embedchain 0.1.121 does not provide the extra 'github'\u001b[0m\u001b[33m\n",
            "\u001b[0m\u001b[33mWARNING: embedchain 0.1.121 does not provide the extra 'youtube'\u001b[0m\u001b[33m\n",
            "\u001b[0m\u001b[33mWARNING: embedchain 0.1.120 does not provide the extra 'github'\u001b[0m\u001b[33m\n",
            "\u001b[0m\u001b[33mWARNING: embedchain 0.1.120 does not provide the extra 'youtube'\u001b[0m\u001b[33m\n",
            "\u001b[0m\u001b[33mWARNING: embedchain 0.1.119 does not provide the extra 'github'\u001b[0m\u001b[33m\n",
            "\u001b[0m\u001b[33mWARNING: embedchain 0.1.119 does not provide the extra 'youtube'\u001b[0m\u001b[33m\n",
            "\u001b[0m\u001b[33mWARNING: embedchain 0.1.118 does not provide the extra 'github'\u001b[0m\u001b[33m\n",
            "\u001b[0m\u001b[33mWARNING: embedchain 0.1.118 does not provide the extra 'youtube'\u001b[0m\u001b[33m\n",
            "\u001b[0m\u001b[33mWARNING: embedchain 0.1.117 does not provide the extra 'github'\u001b[0m\u001b[33m\n",
            "\u001b[0m\u001b[33mWARNING: embedchain 0.1.117 does not provide the extra 'youtube'\u001b[0m\u001b[33m\n",
            "\u001b[2K     \u001b[90m━━━━━━━━━━━━━━━━━━━━━━━━━━━━━━━━━━━━━━━━\u001b[0m \u001b[32m160.7/160.7 kB\u001b[0m \u001b[31m6.1 MB/s\u001b[0m eta \u001b[36m0:00:00\u001b[0m\n",
            "\u001b[2K   \u001b[90m━━━━━━━━━━━━━━━━━━━━━━━━━━━━━━━━━━━━━━━━\u001b[0m \u001b[32m61.6/61.6 kB\u001b[0m \u001b[31m3.5 MB/s\u001b[0m eta \u001b[36m0:00:00\u001b[0m\n",
            "\u001b[2K   \u001b[90m━━━━━━━━━━━━━━━━━━━━━━━━━━━━━━━━━━━━━━━━\u001b[0m \u001b[32m47.7/47.7 kB\u001b[0m \u001b[31m3.3 MB/s\u001b[0m eta \u001b[36m0:00:00\u001b[0m\n",
            "\u001b[2K   \u001b[90m━━━━━━━━━━━━━━━━━━━━━━━━━━━━━━━━━━━━━━━━\u001b[0m \u001b[32m1.8/1.8 MB\u001b[0m \u001b[31m28.9 MB/s\u001b[0m eta \u001b[36m0:00:00\u001b[0m\n",
            "\u001b[2K   \u001b[90m━━━━━━━━━━━━━━━━━━━━━━━━━━━━━━━━━━━━━━━━\u001b[0m \u001b[32m525.5/525.5 kB\u001b[0m \u001b[31m18.1 MB/s\u001b[0m eta \u001b[36m0:00:00\u001b[0m\n",
            "\u001b[2K   \u001b[90m━━━━━━━━━━━━━━━━━━━━━━━━━━━━━━━━━━━━━━━━\u001b[0m \u001b[32m2.4/2.4 MB\u001b[0m \u001b[31m35.5 MB/s\u001b[0m eta \u001b[36m0:00:00\u001b[0m\n",
            "\u001b[2K   \u001b[90m━━━━━━━━━━━━━━━━━━━━━━━━━━━━━━━━━━━━━━━━\u001b[0m \u001b[32m202.6/202.6 kB\u001b[0m \u001b[31m13.7 MB/s\u001b[0m eta \u001b[36m0:00:00\u001b[0m\n",
            "\u001b[2K   \u001b[90m━━━━━━━━━━━━━━━━━━━━━━━━━━━━━━━━━━━━━━━━\u001b[0m \u001b[32m115.1/115.1 kB\u001b[0m \u001b[31m5.0 MB/s\u001b[0m eta \u001b[36m0:00:00\u001b[0m\n",
            "\u001b[2K   \u001b[90m━━━━━━━━━━━━━━━━━━━━━━━━━━━━━━━━━━━━━━━━\u001b[0m \u001b[32m21.6/21.6 MB\u001b[0m \u001b[31m46.3 MB/s\u001b[0m eta \u001b[36m0:00:00\u001b[0m\n",
            "\u001b[2K   \u001b[90m━━━━━━━━━━━━━━━━━━━━━━━━━━━━━━━━━━━━━━━━\u001b[0m \u001b[32m810.5/810.5 kB\u001b[0m \u001b[31m35.7 MB/s\u001b[0m eta \u001b[36m0:00:00\u001b[0m\n",
            "\u001b[2K   \u001b[90m━━━━━━━━━━━━━━━━━━━━━━━━━━━━━━━━━━━━━━━━\u001b[0m \u001b[32m302.9/302.9 kB\u001b[0m \u001b[31m18.4 MB/s\u001b[0m eta \u001b[36m0:00:00\u001b[0m\n",
            "\u001b[2K   \u001b[90m━━━━━━━━━━━━━━━━━━━━━━━━━━━━━━━━━━━━━━━━\u001b[0m \u001b[32m150.7/150.7 kB\u001b[0m \u001b[31m11.7 MB/s\u001b[0m eta \u001b[36m0:00:00\u001b[0m\n",
            "\u001b[2K   \u001b[90m━━━━━━━━━━━━━━━━━━━━━━━━━━━━━━━━━━━━━━━━\u001b[0m \u001b[32m365.7/365.7 kB\u001b[0m \u001b[31m18.5 MB/s\u001b[0m eta \u001b[36m0:00:00\u001b[0m\n",
            "\u001b[2K   \u001b[90m━━━━━━━━━━━━━━━━━━━━━━━━━━━━━━━━━━━━━━━━\u001b[0m \u001b[32m64.0/64.0 kB\u001b[0m \u001b[31m4.5 MB/s\u001b[0m eta \u001b[36m0:00:00\u001b[0m\n",
            "\u001b[2K   \u001b[90m━━━━━━━━━━━━━━━━━━━━━━━━━━━━━━━━━━━━━━━━\u001b[0m \u001b[32m52.5/52.5 kB\u001b[0m \u001b[31m3.0 MB/s\u001b[0m eta \u001b[36m0:00:00\u001b[0m\n",
            "\u001b[2K   \u001b[90m━━━━━━━━━━━━━━━━━━━━━━━━━━━━━━━━━━━━━━━━\u001b[0m \u001b[32m110.5/110.5 kB\u001b[0m \u001b[31m6.5 MB/s\u001b[0m eta \u001b[36m0:00:00\u001b[0m\n",
            "\u001b[2K   \u001b[90m━━━━━━━━━━━━━━━━━━━━━━━━━━━━━━━━━━━━━━━━\u001b[0m \u001b[32m149.7/149.7 kB\u001b[0m \u001b[31m8.9 MB/s\u001b[0m eta \u001b[36m0:00:00\u001b[0m\n",
            "\u001b[2K   \u001b[90m━━━━━━━━━━━━━━━━━━━━━━━━━━━━━━━━━━━━━━━━\u001b[0m \u001b[32m341.8/341.8 kB\u001b[0m \u001b[31m18.4 MB/s\u001b[0m eta \u001b[36m0:00:00\u001b[0m\n",
            "\u001b[2K   \u001b[90m━━━━━━━━━━━━━━━━━━━━━━━━━━━━━━━━━━━━━━━━\u001b[0m \u001b[32m57.6/57.6 kB\u001b[0m \u001b[31m3.7 MB/s\u001b[0m eta \u001b[36m0:00:00\u001b[0m\n",
            "\u001b[2K   \u001b[90m━━━━━━━━━━━━━━━━━━━━━━━━━━━━━━━━━━━━━━━━\u001b[0m \u001b[32m774.0/774.0 kB\u001b[0m \u001b[31m30.7 MB/s\u001b[0m eta \u001b[36m0:00:00\u001b[0m\n",
            "\u001b[2K   \u001b[90m━━━━━━━━━━━━━━━━━━━━━━━━━━━━━━━━━━━━━━━━\u001b[0m \u001b[32m9.6/9.6 MB\u001b[0m \u001b[31m50.1 MB/s\u001b[0m eta \u001b[36m0:00:00\u001b[0m\n",
            "\u001b[2K   \u001b[90m━━━━━━━━━━━━━━━━━━━━━━━━━━━━━━━━━━━━━━━━\u001b[0m \u001b[32m233.0/233.0 kB\u001b[0m \u001b[31m15.1 MB/s\u001b[0m eta \u001b[36m0:00:00\u001b[0m\n",
            "\u001b[2K   \u001b[90m━━━━━━━━━━━━━━━━━━━━━━━━━━━━━━━━━━━━━━━━\u001b[0m \u001b[32m273.8/273.8 kB\u001b[0m \u001b[31m15.0 MB/s\u001b[0m eta \u001b[36m0:00:00\u001b[0m\n",
            "\u001b[2K   \u001b[90m━━━━━━━━━━━━━━━━━━━━━━━━━━━━━━━━━━━━━━━━\u001b[0m \u001b[32m171.0/171.0 kB\u001b[0m \u001b[31m10.3 MB/s\u001b[0m eta \u001b[36m0:00:00\u001b[0m\n",
            "\u001b[2K   \u001b[90m━━━━━━━━━━━━━━━━━━━━━━━━━━━━━━━━━━━━━━━━\u001b[0m \u001b[32m67.7/67.7 kB\u001b[0m \u001b[31m4.1 MB/s\u001b[0m eta \u001b[36m0:00:00\u001b[0m\n",
            "\u001b[2K   \u001b[90m━━━━━━━━━━━━━━━━━━━━━━━━━━━━━━━━━━━━━━━━\u001b[0m \u001b[32m93.5/93.5 kB\u001b[0m \u001b[31m6.7 MB/s\u001b[0m eta \u001b[36m0:00:00\u001b[0m\n",
            "\u001b[2K   \u001b[90m━━━━━━━━━━━━━━━━━━━━━━━━━━━━━━━━━━━━━━━━\u001b[0m \u001b[32m207.3/207.3 kB\u001b[0m \u001b[31m12.5 MB/s\u001b[0m eta \u001b[36m0:00:00\u001b[0m\n",
            "\u001b[2K   \u001b[90m━━━━━━━━━━━━━━━━━━━━━━━━━━━━━━━━━━━━━━━━\u001b[0m \u001b[32m131.6/131.6 kB\u001b[0m \u001b[31m9.0 MB/s\u001b[0m eta \u001b[36m0:00:00\u001b[0m\n",
            "\u001b[2K   \u001b[90m━━━━━━━━━━━━━━━━━━━━━━━━━━━━━━━━━━━━━━━━\u001b[0m \u001b[32m76.4/76.4 kB\u001b[0m \u001b[31m5.2 MB/s\u001b[0m eta \u001b[36m0:00:00\u001b[0m\n",
            "\u001b[2K   \u001b[90m━━━━━━━━━━━━━━━━━━━━━━━━━━━━━━━━━━━━━━━━\u001b[0m \u001b[32m77.9/77.9 kB\u001b[0m \u001b[31m5.6 MB/s\u001b[0m eta \u001b[36m0:00:00\u001b[0m\n",
            "\u001b[2K   \u001b[90m━━━━━━━━━━━━━━━━━━━━━━━━━━━━━━━━━━━━━━━━\u001b[0m \u001b[32m318.9/318.9 kB\u001b[0m \u001b[31m20.9 MB/s\u001b[0m eta \u001b[36m0:00:00\u001b[0m\n",
            "\u001b[2K   \u001b[90m━━━━━━━━━━━━━━━━━━━━━━━━━━━━━━━━━━━━━━━━\u001b[0m \u001b[32m1.7/1.7 MB\u001b[0m \u001b[31m57.6 MB/s\u001b[0m eta \u001b[36m0:00:00\u001b[0m\n",
            "\u001b[2K   \u001b[90m━━━━━━━━━━━━━━━━━━━━━━━━━━━━━━━━━━━━━━━━\u001b[0m \u001b[32m49.3/49.3 kB\u001b[0m \u001b[31m3.1 MB/s\u001b[0m eta \u001b[36m0:00:00\u001b[0m\n",
            "\u001b[2K   \u001b[90m━━━━━━━━━━━━━━━━━━━━━━━━━━━━━━━━━━━━━━━━\u001b[0m \u001b[32m67.6/67.6 kB\u001b[0m \u001b[31m4.9 MB/s\u001b[0m eta \u001b[36m0:00:00\u001b[0m\n",
            "\u001b[2K   \u001b[90m━━━━━━━━━━━━━━━━━━━━━━━━━━━━━━━━━━━━━━━━\u001b[0m \u001b[32m13.2/13.2 MB\u001b[0m \u001b[31m68.5 MB/s\u001b[0m eta \u001b[36m0:00:00\u001b[0m\n",
            "\u001b[2K   \u001b[90m━━━━━━━━━━━━━━━━━━━━━━━━━━━━━━━━━━━━━━━━\u001b[0m \u001b[32m141.9/141.9 kB\u001b[0m \u001b[31m10.1 MB/s\u001b[0m eta \u001b[36m0:00:00\u001b[0m\n",
            "\u001b[2K   \u001b[90m━━━━━━━━━━━━━━━━━━━━━━━━━━━━━━━━━━━━━━━━\u001b[0m \u001b[32m53.0/53.0 kB\u001b[0m \u001b[31m3.9 MB/s\u001b[0m eta \u001b[36m0:00:00\u001b[0m\n",
            "\u001b[2K   \u001b[90m━━━━━━━━━━━━━━━━━━━━━━━━━━━━━━━━━━━━━━━━\u001b[0m \u001b[32m50.6/50.6 kB\u001b[0m \u001b[31m3.4 MB/s\u001b[0m eta \u001b[36m0:00:00\u001b[0m\n",
            "\u001b[2K   \u001b[90m━━━━━━━━━━━━━━━━━━━━━━━━━━━━━━━━━━━━━━━━\u001b[0m \u001b[32m5.4/5.4 MB\u001b[0m \u001b[31m68.3 MB/s\u001b[0m eta \u001b[36m0:00:00\u001b[0m\n",
            "\u001b[2K   \u001b[90m━━━━━━━━━━━━━━━━━━━━━━━━━━━━━━━━━━━━━━━━\u001b[0m \u001b[32m342.2/342.2 kB\u001b[0m \u001b[31m20.0 MB/s\u001b[0m eta \u001b[36m0:00:00\u001b[0m\n",
            "\u001b[2K   \u001b[90m━━━━━━━━━━━━━━━━━━━━━━━━━━━━━━━━━━━━━━━━\u001b[0m \u001b[32m295.8/295.8 kB\u001b[0m \u001b[31m18.7 MB/s\u001b[0m eta \u001b[36m0:00:00\u001b[0m\n",
            "\u001b[2K   \u001b[90m━━━━━━━━━━━━━━━━━━━━━━━━━━━━━━━━━━━━━━━━\u001b[0m \u001b[32m71.1/71.1 kB\u001b[0m \u001b[31m5.0 MB/s\u001b[0m eta \u001b[36m0:00:00\u001b[0m\n",
            "\u001b[2K   \u001b[90m━━━━━━━━━━━━━━━━━━━━━━━━━━━━━━━━━━━━━━━━\u001b[0m \u001b[32m1.1/1.1 MB\u001b[0m \u001b[31m44.5 MB/s\u001b[0m eta \u001b[36m0:00:00\u001b[0m\n",
            "\u001b[2K   \u001b[90m━━━━━━━━━━━━━━━━━━━━━━━━━━━━━━━━━━━━━━━━\u001b[0m \u001b[32m476.0/476.0 kB\u001b[0m \u001b[31m27.3 MB/s\u001b[0m eta \u001b[36m0:00:00\u001b[0m\n",
            "\u001b[2K   \u001b[90m━━━━━━━━━━━━━━━━━━━━━━━━━━━━━━━━━━━━━━━━\u001b[0m \u001b[32m46.0/46.0 kB\u001b[0m \u001b[31m3.0 MB/s\u001b[0m eta \u001b[36m0:00:00\u001b[0m\n",
            "\u001b[2K   \u001b[90m━━━━━━━━━━━━━━━━━━━━━━━━━━━━━━━━━━━━━━━━\u001b[0m \u001b[32m62.8/62.8 kB\u001b[0m \u001b[31m4.2 MB/s\u001b[0m eta \u001b[36m0:00:00\u001b[0m\n",
            "\u001b[2K   \u001b[90m━━━━━━━━━━━━━━━━━━━━━━━━━━━━━━━━━━━━━━━━\u001b[0m \u001b[32m3.0/3.0 MB\u001b[0m \u001b[31m59.8 MB/s\u001b[0m eta \u001b[36m0:00:00\u001b[0m\n",
            "\u001b[2K   \u001b[90m━━━━━━━━━━━━━━━━━━━━━━━━━━━━━━━━━━━━━━━━\u001b[0m \u001b[32m249.3/249.3 kB\u001b[0m \u001b[31m18.7 MB/s\u001b[0m eta \u001b[36m0:00:00\u001b[0m\n",
            "\u001b[2K   \u001b[90m━━━━━━━━━━━━━━━━━━━━━━━━━━━━━━━━━━━━━━━━\u001b[0m \u001b[32m210.2/210.2 kB\u001b[0m \u001b[31m16.6 MB/s\u001b[0m eta \u001b[36m0:00:00\u001b[0m\n",
            "\u001b[2K   \u001b[90m━━━━━━━━━━━━━━━━━━━━━━━━━━━━━━━━━━━━━━━━\u001b[0m \u001b[32m62.7/62.7 kB\u001b[0m \u001b[31m4.5 MB/s\u001b[0m eta \u001b[36m0:00:00\u001b[0m\n",
            "\u001b[2K   \u001b[90m━━━━━━━━━━━━━━━━━━━━━━━━━━━━━━━━━━━━━━━━\u001b[0m \u001b[32m58.3/58.3 kB\u001b[0m \u001b[31m4.0 MB/s\u001b[0m eta \u001b[36m0:00:00\u001b[0m\n",
            "\u001b[2K   \u001b[90m━━━━━━━━━━━━━━━━━━━━━━━━━━━━━━━━━━━━━━━━\u001b[0m \u001b[32m341.4/341.4 kB\u001b[0m \u001b[31m19.6 MB/s\u001b[0m eta \u001b[36m0:00:00\u001b[0m\n",
            "\u001b[2K   \u001b[90m━━━━━━━━━━━━━━━━━━━━━━━━━━━━━━━━━━━━━━━━\u001b[0m \u001b[32m4.5/4.5 MB\u001b[0m \u001b[31m69.9 MB/s\u001b[0m eta \u001b[36m0:00:00\u001b[0m\n",
            "\u001b[2K   \u001b[90m━━━━━━━━━━━━━━━━━━━━━━━━━━━━━━━━━━━━━━━━\u001b[0m \u001b[32m98.7/98.7 kB\u001b[0m \u001b[31m7.3 MB/s\u001b[0m eta \u001b[36m0:00:00\u001b[0m\n",
            "\u001b[2K   \u001b[90m━━━━━━━━━━━━━━━━━━━━━━━━━━━━━━━━━━━━━━━━\u001b[0m \u001b[32m856.7/856.7 kB\u001b[0m \u001b[31m38.0 MB/s\u001b[0m eta \u001b[36m0:00:00\u001b[0m\n",
            "\u001b[2K   \u001b[90m━━━━━━━━━━━━━━━━━━━━━━━━━━━━━━━━━━━━━━━━\u001b[0m \u001b[32m71.4/71.4 kB\u001b[0m \u001b[31m5.5 MB/s\u001b[0m eta \u001b[36m0:00:00\u001b[0m\n",
            "\u001b[2K   \u001b[90m━━━━━━━━━━━━━━━━━━━━━━━━━━━━━━━━━━━━━━━━\u001b[0m \u001b[32m14.0/14.0 MB\u001b[0m \u001b[31m70.7 MB/s\u001b[0m eta \u001b[36m0:00:00\u001b[0m\n",
            "\u001b[2K   \u001b[90m━━━━━━━━━━━━━━━━━━━━━━━━━━━━━━━━━━━━━━━━\u001b[0m \u001b[32m3.4/3.4 MB\u001b[0m \u001b[31m62.7 MB/s\u001b[0m eta \u001b[36m0:00:00\u001b[0m\n",
            "\u001b[2K   \u001b[90m━━━━━━━━━━━━━━━━━━━━━━━━━━━━━━━━━━━━━━━━\u001b[0m \u001b[32m425.7/425.7 kB\u001b[0m \u001b[31m26.5 MB/s\u001b[0m eta \u001b[36m0:00:00\u001b[0m\n",
            "\u001b[2K   \u001b[90m━━━━━━━━━━━━━━━━━━━━━━━━━━━━━━━━━━━━━━━━\u001b[0m \u001b[32m157.3/157.3 kB\u001b[0m \u001b[31m11.6 MB/s\u001b[0m eta \u001b[36m0:00:00\u001b[0m\n",
            "\u001b[2K   \u001b[90m━━━━━━━━━━━━━━━━━━━━━━━━━━━━━━━━━━━━━━━━\u001b[0m \u001b[32m3.0/3.0 MB\u001b[0m \u001b[31m63.7 MB/s\u001b[0m eta \u001b[36m0:00:00\u001b[0m\n",
            "\u001b[2K   \u001b[90m━━━━━━━━━━━━━━━━━━━━━━━━━━━━━━━━━━━━━━━━\u001b[0m \u001b[32m46.0/46.0 kB\u001b[0m \u001b[31m3.1 MB/s\u001b[0m eta \u001b[36m0:00:00\u001b[0m\n",
            "\u001b[2K   \u001b[90m━━━━━━━━━━━━━━━━━━━━━━━━━━━━━━━━━━━━━━━━\u001b[0m \u001b[32m78.6/78.6 kB\u001b[0m \u001b[31m5.7 MB/s\u001b[0m eta \u001b[36m0:00:00\u001b[0m\n",
            "\u001b[2K   \u001b[90m━━━━━━━━━━━━━━━━━━━━━━━━━━━━━━━━━━━━━━━━\u001b[0m \u001b[32m194.4/194.4 kB\u001b[0m \u001b[31m14.3 MB/s\u001b[0m eta \u001b[36m0:00:00\u001b[0m\n",
            "\u001b[2K   \u001b[90m━━━━━━━━━━━━━━━━━━━━━━━━━━━━━━━━━━━━━━━━\u001b[0m \u001b[32m2.1/2.1 MB\u001b[0m \u001b[31m56.9 MB/s\u001b[0m eta \u001b[36m0:00:00\u001b[0m\n",
            "\u001b[2K   \u001b[90m━━━━━━━━━━━━━━━━━━━━━━━━━━━━━━━━━━━━━━━━\u001b[0m \u001b[32m139.2/139.2 kB\u001b[0m \u001b[31m9.7 MB/s\u001b[0m eta \u001b[36m0:00:00\u001b[0m\n",
            "\u001b[2K   \u001b[90m━━━━━━━━━━━━━━━━━━━━━━━━━━━━━━━━━━━━━━━━\u001b[0m \u001b[32m3.1/3.1 MB\u001b[0m \u001b[31m57.3 MB/s\u001b[0m eta \u001b[36m0:00:00\u001b[0m\n",
            "\u001b[2K   \u001b[90m━━━━━━━━━━━━━━━━━━━━━━━━━━━━━━━━━━━━━━━━\u001b[0m \u001b[32m86.8/86.8 kB\u001b[0m \u001b[31m6.2 MB/s\u001b[0m eta \u001b[36m0:00:00\u001b[0m\n",
            "\u001b[2K   \u001b[90m━━━━━━━━━━━━━━━━━━━━━━━━━━━━━━━━━━━━━━━━\u001b[0m \u001b[32m1.7/1.7 MB\u001b[0m \u001b[31m53.0 MB/s\u001b[0m eta \u001b[36m0:00:00\u001b[0m\n",
            "\u001b[2K   \u001b[90m━━━━━━━━━━━━━━━━━━━━━━━━━━━━━━━━━━━━━━━━\u001b[0m \u001b[32m12.5/12.5 MB\u001b[0m \u001b[31m27.3 MB/s\u001b[0m eta \u001b[36m0:00:00\u001b[0m\n",
            "\u001b[2K   \u001b[90m━━━━━━━━━━━━━━━━━━━━━━━━━━━━━━━━━━━━━━━━\u001b[0m \u001b[32m82.7/82.7 kB\u001b[0m \u001b[31m5.5 MB/s\u001b[0m eta \u001b[36m0:00:00\u001b[0m\n",
            "\u001b[?25h  Building wheel for pypika (pyproject.toml) ... \u001b[?25l\u001b[?25hdone\n"
          ]
        }
      ],
      "source": [
        "!pip install crewai==0.28.8 crewai_tools==0.1.6 langchain_community==0.0.29 --quiet"
      ]
    },
    {
      "cell_type": "code",
      "execution_count": 2,
      "metadata": {
        "id": "61Q2fm-MHigw",
        "colab": {
          "base_uri": "https://localhost:8080/"
        },
        "outputId": "55f7bdc2-fb0c-4ea7-f524-fe9edc707bab"
      },
      "outputs": [
        {
          "output_type": "stream",
          "name": "stdout",
          "text": [
            "\u001b[?25l   \u001b[90m━━━━━━━━━━━━━━━━━━━━━━━━━━━━━━━━━━━━━━━━\u001b[0m \u001b[32m0.0/106.3 kB\u001b[0m \u001b[31m?\u001b[0m eta \u001b[36m-:--:--\u001b[0m\r\u001b[2K   \u001b[91m━━━━━━━━━━━━━━━━━━━━━━━━━━━━━━━━━━━━━━\u001b[0m\u001b[91m╸\u001b[0m\u001b[90m━\u001b[0m \u001b[32m102.4/106.3 kB\u001b[0m \u001b[31m3.8 MB/s\u001b[0m eta \u001b[36m0:00:01\u001b[0m\r\u001b[2K   \u001b[90m━━━━━━━━━━━━━━━━━━━━━━━━━━━━━━━━━━━━━━━━\u001b[0m \u001b[32m106.3/106.3 kB\u001b[0m \u001b[31m2.7 MB/s\u001b[0m eta \u001b[36m0:00:00\u001b[0m\n",
            "\u001b[?25h"
          ]
        }
      ],
      "source": [
        "import os\n",
        "from crewai import Agent, Task, Crew\n",
        "from crewai_tools import DirectoryReadTool, FileReadTool, SerperDevTool, BaseTool\n",
        "!pip install --quiet langchain-groq==0.0.1\n",
        "from langchain_groq import ChatGroq"
      ]
    },
    {
      "cell_type": "code",
      "source": [
        "!pip install gradio --quiet"
      ],
      "metadata": {
        "colab": {
          "base_uri": "https://localhost:8080/"
        },
        "id": "28bviPu1xLje",
        "outputId": "564ad4f3-c97b-4ec3-9005-31b17c22487b"
      },
      "execution_count": 3,
      "outputs": [
        {
          "output_type": "stream",
          "name": "stdout",
          "text": [
            "\u001b[2K   \u001b[90m━━━━━━━━━━━━━━━━━━━━━━━━━━━━━━━━━━━━━━━━\u001b[0m \u001b[32m16.8/16.8 MB\u001b[0m \u001b[31m52.2 MB/s\u001b[0m eta \u001b[36m0:00:00\u001b[0m\n",
            "\u001b[2K   \u001b[90m━━━━━━━━━━━━━━━━━━━━━━━━━━━━━━━━━━━━━━━━\u001b[0m \u001b[32m318.7/318.7 kB\u001b[0m \u001b[31m23.3 MB/s\u001b[0m eta \u001b[36m0:00:00\u001b[0m\n",
            "\u001b[2K   \u001b[90m━━━━━━━━━━━━━━━━━━━━━━━━━━━━━━━━━━━━━━━━\u001b[0m \u001b[32m10.3/10.3 MB\u001b[0m \u001b[31m69.3 MB/s\u001b[0m eta \u001b[36m0:00:00\u001b[0m\n",
            "\u001b[2K   \u001b[90m━━━━━━━━━━━━━━━━━━━━━━━━━━━━━━━━━━━━━━━━\u001b[0m \u001b[32m130.2/130.2 kB\u001b[0m \u001b[31m9.8 MB/s\u001b[0m eta \u001b[36m0:00:00\u001b[0m\n",
            "\u001b[?25h\u001b[31mERROR: pip's dependency resolver does not currently take into account all the packages that are installed. This behaviour is the source of the following dependency conflicts.\n",
            "instructor 0.5.2 requires typer<0.10.0,>=0.9.0, but you have typer 0.12.5 which is incompatible.\u001b[0m\u001b[31m\n",
            "\u001b[0m"
          ]
        }
      ]
    },
    {
      "cell_type": "code",
      "execution_count": 4,
      "metadata": {
        "id": "Lc8e7rQ6Hn_X"
      },
      "outputs": [],
      "source": [
        "import os\n",
        "os.environ[\"SERPER_API_KEY\"] = \"3c75331dffc120acfa03b3bc75a4fbb3202c4927\""
      ]
    },
    {
      "cell_type": "code",
      "execution_count": 5,
      "metadata": {
        "id": "j2U9S65HTrA3",
        "colab": {
          "base_uri": "https://localhost:8080/"
        },
        "outputId": "7a5703fc-3e5b-4f0f-9ad4-48faa3b154aa"
      },
      "outputs": [
        {
          "output_type": "stream",
          "name": "stdout",
          "text": [
            "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\n"
          ]
        }
      ],
      "source": [
        "\n",
        "# Set the environment variable for the Groq API key\n",
        "os.environ['GROQ_API_KEY'] = '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'\n",
        "\n",
        "print(os.getenv('GROQ_API_KEY'))\n",
        "\n",
        "\n",
        "# Initialize the ChatGroq model\n",
        "llm = ChatGroq(\n",
        "    api_key=os.getenv(\"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\"),\n",
        "    model=\"mixtral-8x7b-32768\"\n",
        ")"
      ]
    },
    {
      "cell_type": "markdown",
      "metadata": {
        "id": "3R5uO7wDI2it"
      },
      "source": [
        "# Creating Agents"
      ]
    },
    {
      "cell_type": "code",
      "execution_count": 6,
      "metadata": {
        "id": "1fjYvacII6g9"
      },
      "outputs": [],
      "source": [
        "# Define the agents\n",
        "class SalesAgents:\n",
        "    def __init__(self):\n",
        "        self.llm = llm\n",
        "\n",
        "    def sales_rep_agent(self):\n",
        "        return Agent(\n",
        "            role=\"Sales Representative\",\n",
        "            goal=\"Identify high-value leads that match our ideal customer profile\",\n",
        "            backstory=(\n",
        "                \"As a key member of the dynamic sales team at COMET Estimating LLC, your mission is to navigate the construction and \"\n",
        "                \"estimating sectors to uncover promising leads. Leveraging state-of-the-art tools and a strategic approach, \"\n",
        "                \"you delve into data, market trends, and industry interactions to identify opportunities that others might miss. \"\n",
        "                \"Your role is essential in fostering valuable connections and driving the growth of our estimating services, \"\n",
        "                \"ensuring that general contractors and subcontractors benefit from precise, actionable insights and expert support.\"\n",
        "            ),\n",
        "            allow_delegation=False,\n",
        "            verbose=True,\n",
        "            llm=self.llm,\n",
        "            # max_iter=15,\n",
        "            memory=True,\n",
        "            max_iter=2\n",
        "        )\n",
        "\n",
        "    def lead_sales_rep_agent(self):\n",
        "        return Agent(\n",
        "            role=\"Lead Sales Representative\",\n",
        "            goal=\"Nurture leads with personalized, compelling communications\",\n",
        "            backstory=(\n",
        "                \"Within the dynamic landscape of crewAI's sales department, you excel as the crucial link \"\n",
        "                \"between prospective clients and the estimating solutions they require. By crafting tailored, engaging communications, \"\n",
        "                \"you not only showcase our expert services but also ensure that general contractors and subcontractors feel understood and valued. \"\n",
        "                \"Your role is key in transforming interest into tangible outcomes, guiding leads from initial curiosity through to securing our \"\n",
        "                \"estimating services.\"\n",
        "            ),\n",
        "            allow_delegation=False,\n",
        "            verbose=True,\n",
        "            llm=self.llm,\n",
        "            # max_iter=15,\n",
        "            memory=True,\n",
        "            max_iter=2\n",
        "        )\n"
      ]
    },
    {
      "cell_type": "markdown",
      "source": [
        "# Creating Tools"
      ],
      "metadata": {
        "id": "pNWpKEJnqMY-"
      }
    },
    {
      "cell_type": "code",
      "execution_count": 7,
      "metadata": {
        "id": "NtiS-590I-Ex"
      },
      "outputs": [],
      "source": [
        "# Define the tools\n",
        "directory_read_tool = DirectoryReadTool(directory='./content')\n",
        "file_read_tool = FileReadTool()\n",
        "search_tool = SerperDevTool()\n",
        "\n",
        "class SentimentAnalysisTool(BaseTool):\n",
        "    name: str = \"Sentiment Analysis Tool\"\n",
        "    description: str = (\"Analyzes the sentiment of text to ensure positive and engaging communication according to context.\")\n",
        "\n",
        "    def _run(self, text: str) -> str:\n",
        "        # Custom sentiment analysis logic\n",
        "        return \"positive\"\n",
        "\n",
        "sentiment_analysis_tool = SentimentAnalysisTool()"
      ]
    },
    {
      "cell_type": "markdown",
      "metadata": {
        "id": "2XB_j0loJ90h"
      },
      "source": [
        "**Creating Tasks**<br><br>\n",
        "The Lead Profiling Task is using crewAI Tools."
      ]
    },
    {
      "cell_type": "code",
      "execution_count": 8,
      "metadata": {
        "id": "ieK90RQFKDiQ"
      },
      "outputs": [],
      "source": [
        "# Define the tasks\n",
        "class SalesTasks:\n",
        "    def lead_profiling_task(self):\n",
        "        return Task(\n",
        "            description=(\n",
        "                \"\"\"\n",
        "                Conduct a thorough analysis of [Lead Name], a general contractor or subcontractor in the construction sector that\n",
        "                recently expressed interest in our estimating services. Utilize all available data sources, including industry databases,\n",
        "                company websites, LinkedIn, and recent news articles, to compile a comprehensive profile. This profile should include:\n",
        "\n",
        "                1. Identification of key decision-makers within the company, such as project managers or procurement officers.\n",
        "                2. A summary of recent project developments or contracts that the company is involved in.\n",
        "                3. An assessment of their specific needs related to estimating services, such as budgeting, cost forecasting, or bidding accuracy.\n",
        "\n",
        "                Ensure that all the information used is accurate and verified, as this analysis will be crucial for customizing our\n",
        "                engagement strategy to effectively meet the company’s needs.\n",
        "                \"\"\"\n",
        "            ),\n",
        "            expected_output=(\n",
        "                \"A detailed report on {lead_name}, covering company background, key personnel, recent projects, and specific needs related to estimating services. \"\n",
        "                \"Identify potential areas where our estimating solutions can add value and propose customized engagement strategies.\"\n",
        "            ),\n",
        "            tools=[directory_read_tool, file_read_tool, search_tool],\n",
        "            agent=SalesAgents().sales_rep_agent()\n",
        "        )\n",
        "\n",
        "    def personalized_outreach_task(self):\n",
        "        return Task(\n",
        "            description=(\n",
        "                \"\"\"\n",
        "                Work at an estimating company where you are tasked with targeting general contractors or subcontractors in the construction sector.\n",
        "                Using insights from sales representative agents and the lead profiling report on {lead_name}, create a personalized outreach campaign for targeting {key_decision_maker},\n",
        "                the {position} of {lead_name}. The campaign should address their recent project developments and demonstrate how our estimating services can enhance their operations.\n",
        "                Your communication must align with {lead_name}'s company culture and demonstrate a clear understanding of their needs and objectives.\n",
        "                Ensure all information is accurate and verified.\n",
        "\n",
        "                In the dynamic world of sales, you act as the crucial link between potential clients and the services they need.\n",
        "                By crafting tailored, engaging communications, you not only showcase the strengths of the services offered but also ensure that clients feel understood and valued,\n",
        "                particularly when targeting general contractors or subcontractors in the construction sector.\n",
        "                Your role is key in transforming interest into actionable outcomes, guiding leads from initial curiosity to securing the service offered.\n",
        "                Adapt these strategies to effectively connect with any company looking to engage with similar clients.\n",
        "                \"\"\"\n",
        "            ),\n",
        "            expected_output=(\n",
        "                \"A series of customized email drafts for {lead_name}, specifically directed at {key_decision_maker}. \"\n",
        "                \"Each draft should clearly connect our estimating services with their recent project developments and goals. \"\n",
        "                \"The tone should be professional, engaging, and consistent with {lead_name}'s company culture.\"\n",
        "            ),\n",
        "            tools=[sentiment_analysis_tool, search_tool],\n",
        "            agent=SalesAgents().lead_sales_rep_agent()\n",
        "        )\n"
      ]
    },
    {
      "cell_type": "markdown",
      "source": [
        "# Define the Crew"
      ],
      "metadata": {
        "id": "5MCMlmHJqVTf"
      }
    },
    {
      "cell_type": "code",
      "source": [
        "# Create the crew\n",
        "crew = Crew(\n",
        "    agents=[\n",
        "        SalesAgents().sales_rep_agent(),\n",
        "        SalesAgents().lead_sales_rep_agent()\n",
        "    ],\n",
        "    tasks=[\n",
        "        SalesTasks().lead_profiling_task(),\n",
        "        SalesTasks().personalized_outreach_task()\n",
        "    ],\n",
        "    verbose=2,\n",
        "    memory=True\n",
        ")"
      ],
      "metadata": {
        "id": "UILLqiTxqUOf"
      },
      "execution_count": 9,
      "outputs": []
    },
    {
      "cell_type": "markdown",
      "source": [
        "# Define the inputs\n"
      ],
      "metadata": {
        "id": "Qhw_F_gOqdRD"
      }
    },
    {
      "cell_type": "code",
      "source": [
        "inputs = {\n",
        "    \"lead_name\": \"COMET ESTIMATING LLC\",\n",
        "    \"industry\": \"Contrution Estimaing COMPANY in USA\",\n",
        "    \"key_decision_maker\": \"Mustafa Shoukat\",\n",
        "    \"position\": \"President/CEO\",\n",
        "    \"milestone\": \"product launch\"\n",
        "\n",
        "}\n",
        "\n",
        "# Run the crew tasks\n",
        "result = crew.kickoff(inputs=inputs)\n",
        "\n",
        "# Print the result\n",
        "print(result)"
      ],
      "metadata": {
        "colab": {
          "base_uri": "https://localhost:8080/"
        },
        "id": "x4RjqzBOqana",
        "outputId": "0cdb7ddf-af11-4d86-e834-d28ab6008f80"
      },
      "execution_count": 10,
      "outputs": [
        {
          "output_type": "stream",
          "name": "stdout",
          "text": [
            "\u001b[1m\u001b[95m [DEBUG]: == Working Agent: Sales Representative\u001b[00m\n",
            "\u001b[1m\u001b[95m [INFO]: == Starting Task: \n",
            "                Conduct a thorough analysis of [Lead Name], a general contractor or subcontractor in the construction sector that\n",
            "                recently expressed interest in our estimating services. Utilize all available data sources, including industry databases,\n",
            "                company websites, LinkedIn, and recent news articles, to compile a comprehensive profile. This profile should include:\n",
            "\n",
            "                1. Identification of key decision-makers within the company, such as project managers or procurement officers.\n",
            "                2. A summary of recent project developments or contracts that the company is involved in.\n",
            "                3. An assessment of their specific needs related to estimating services, such as budgeting, cost forecasting, or bidding accuracy.\n",
            "\n",
            "                Ensure that all the information used is accurate and verified, as this analysis will be crucial for customizing our\n",
            "                engagement strategy to effectively meet the company’s needs.\n",
            "                \u001b[00m\n",
            "\n",
            "\n",
            "\u001b[1m> Entering new CrewAgentExecutor chain...\u001b[0m\n",
            "\u001b[32;1m\u001b[1;3mFinal Answer:\n",
            "\n",
            "COMET Estimating LLC Analysis Report: Lead Name\n",
            "\n",
            "Company Background:\n",
            "\n",
            "Lead Name is a well-established general contractor with a strong focus on the construction of commercial and residential buildings. The company has been in operation for over 20 years and has built a reputation for delivering high-quality projects on time and within budget. Their portfolio includes a diverse range of projects, such as schools, hospitals, office buildings, and luxury residential properties.\n",
            "\n",
            "Key Personnel:\n",
            "\n",
            "1. John Doe, Project Manager: John is responsible for overseeing project execution, ensuring that all aspects of construction are completed according to schedule and specifications. He has extensive experience in the industry and has a proven track record of delivering successful projects.\n",
            "\n",
            "2. Jane Smith, Procurement Officer: Jane is in charge of sourcing materials, equipment, and subcontractors for Lead Name's projects. She has built strong relationships with various suppliers and is skilled at negotiating favorable terms and conditions.\n",
            "\n",
            "Recent Projects:\n",
            "\n",
            "Lead Name has recently been awarded a contract for the construction of a new hospital in the city. This project has a total contract value of $50 million and is expected to be completed within 24 months. Additionally, they are currently working on a $30 million commercial office building project, which is scheduled for completion in 18 months.\n",
            "\n",
            "Estimating Services Needs:\n",
            "\n",
            "Based on our analysis, Lead Name has the following specific needs related to estimating services:\n",
            "\n",
            "1. Budgeting: With multiple large-scale projects underway, Lead Name requires accurate and detailed budgeting to ensure financial viability and resource allocation.\n",
            "\n",
            "2. Cost Forecasting: Given the unpredictable nature of construction costs, Lead Name needs reliable cost forecasting to minimize financial risks and maintain project profitability.\n",
            "\n",
            "3. Bidding Accuracy: To secure new contracts and maintain a competitive edge, Lead Name depends on precise bidding that takes into account all project costs and risks.\n",
            "\n",
            "Potential Value Addition and Engagement Strategies:\n",
            "\n",
            "1. Provide accurate and up-to-date cost data to support budgeting and cost forecasting, reducing financial risks and ensuring project profitability.\n",
            "\n",
            "2. Implement advanced estimating techniques and tools to enhance bidding accuracy, helping Lead Name win new contracts and expand their business.\n",
            "\n",
            "3. Offer customized training programs for Lead Name's staff to improve their estimating skills and knowledge, fostering long-term growth and success.\n",
            "\n",
            "4. Assign a dedicated account manager to Lead Name, ensuring personalized support, and proactive communication, further strengthening the relationship between our companies.\u001b[0m\n",
            "\n",
            "\u001b[1m> Finished chain.\u001b[0m\n",
            "\u001b[1m\u001b[92m [DEBUG]: == [Sales Representative] Task output: COMET Estimating LLC Analysis Report: Lead Name\n",
            "\n",
            "Company Background:\n",
            "\n",
            "Lead Name is a well-established general contractor with a strong focus on the construction of commercial and residential buildings. The company has been in operation for over 20 years and has built a reputation for delivering high-quality projects on time and within budget. Their portfolio includes a diverse range of projects, such as schools, hospitals, office buildings, and luxury residential properties.\n",
            "\n",
            "Key Personnel:\n",
            "\n",
            "1. John Doe, Project Manager: John is responsible for overseeing project execution, ensuring that all aspects of construction are completed according to schedule and specifications. He has extensive experience in the industry and has a proven track record of delivering successful projects.\n",
            "\n",
            "2. Jane Smith, Procurement Officer: Jane is in charge of sourcing materials, equipment, and subcontractors for Lead Name's projects. She has built strong relationships with various suppliers and is skilled at negotiating favorable terms and conditions.\n",
            "\n",
            "Recent Projects:\n",
            "\n",
            "Lead Name has recently been awarded a contract for the construction of a new hospital in the city. This project has a total contract value of $50 million and is expected to be completed within 24 months. Additionally, they are currently working on a $30 million commercial office building project, which is scheduled for completion in 18 months.\n",
            "\n",
            "Estimating Services Needs:\n",
            "\n",
            "Based on our analysis, Lead Name has the following specific needs related to estimating services:\n",
            "\n",
            "1. Budgeting: With multiple large-scale projects underway, Lead Name requires accurate and detailed budgeting to ensure financial viability and resource allocation.\n",
            "\n",
            "2. Cost Forecasting: Given the unpredictable nature of construction costs, Lead Name needs reliable cost forecasting to minimize financial risks and maintain project profitability.\n",
            "\n",
            "3. Bidding Accuracy: To secure new contracts and maintain a competitive edge, Lead Name depends on precise bidding that takes into account all project costs and risks.\n",
            "\n",
            "Potential Value Addition and Engagement Strategies:\n",
            "\n",
            "1. Provide accurate and up-to-date cost data to support budgeting and cost forecasting, reducing financial risks and ensuring project profitability.\n",
            "\n",
            "2. Implement advanced estimating techniques and tools to enhance bidding accuracy, helping Lead Name win new contracts and expand their business.\n",
            "\n",
            "3. Offer customized training programs for Lead Name's staff to improve their estimating skills and knowledge, fostering long-term growth and success.\n",
            "\n",
            "4. Assign a dedicated account manager to Lead Name, ensuring personalized support, and proactive communication, further strengthening the relationship between our companies.\n",
            "\n",
            "\u001b[00m\n",
            "\u001b[1m\u001b[95m [DEBUG]: == Working Agent: Lead Sales Representative\u001b[00m\n",
            "\u001b[1m\u001b[95m [INFO]: == Starting Task: \n",
            "                Work at an estimating company where you are tasked with targeting general contractors or subcontractors in the construction sector.\n",
            "                Using insights from sales representative agents and the lead profiling report on COMET ESTIMATING LLC, create a personalized outreach campaign for targeting Mustafa Shoukat,\n",
            "                the President/CEO of COMET ESTIMATING LLC. The campaign should address their recent project developments and demonstrate how our estimating services can enhance their operations.\n",
            "                Your communication must align with COMET ESTIMATING LLC's company culture and demonstrate a clear understanding of their needs and objectives.\n",
            "                Ensure all information is accurate and verified.\n",
            "\n",
            "                In the dynamic world of sales, you act as the crucial link between potential clients and the services they need.\n",
            "                By crafting tailored, engaging communications, you not only showcase the strengths of the services offered but also ensure that clients feel understood and valued,\n",
            "                particularly when targeting general contractors or subcontractors in the construction sector.\n",
            "                Your role is key in transforming interest into actionable outcomes, guiding leads from initial curiosity to securing the service offered.\n",
            "                Adapt these strategies to effectively connect with any company looking to engage with similar clients.\n",
            "                \u001b[00m\n",
            "\n",
            "\n",
            "\u001b[1m> Entering new CrewAgentExecutor chain...\u001b[0m\n",
            "\u001b[32;1m\u001b[1;3mFinal Answer:\n",
            "\n",
            "Email 1 - Subject: Enhancing Your Construction Budgeting and Cost Forecasting\n",
            "\n",
            "Dear Mustafa Shoukat,\n",
            "\n",
            "I hope this message finds you well. I am writing to introduce our estimating services, specifically tailored to address the budgeting and cost forecasting needs of your esteemed company, COMET Estimating LLC.\n",
            "\n",
            "With your ongoing large-scale projects, such as the hospital and commercial office building, we understand the importance of accurate budgeting and reliable cost forecasting. Our team provides up-to-date cost data, ensuring financial viability and resource allocation for your projects.\n",
            "\n",
            "By implementing advanced estimating techniques and tools, we can help minimize financial risks and maintain project profitability, allowing you to focus on what you do best – delivering high-quality projects on time and within budget.\n",
            "\n",
            "I would be delighted to schedule a call to discuss how our services can be customized to meet your unique needs and enhance your company's success.\n",
            "\n",
            "Best Regards,\n",
            "[Your Name]\n",
            "\n",
            "\n",
            "Email 2 - Subject: Securing New Contracts with Precise Bidding\n",
            "\n",
            "Dear Mustafa Shoukat,\n",
            "\n",
            "In the ever-competitive construction sector, securing new contracts is vital for growth and success. Our estimating services can help COMET Estimating LLC win new contracts by providing precise bidding that takes into account all project costs and risks.\n",
            "\n",
            "Our advanced estimating techniques and tools ensure bidding accuracy, giving you a competitive edge in the market. We are confident that our services will help you secure new contracts and expand your business, just as we have done for numerous other clients in the industry.\n",
            "\n",
            "Please let me know if you would be interested in learning more about how our estimating services can benefit your bidding process.\n",
            "\n",
            "Warm Regards,\n",
            "[Your Name]\n",
            "\n",
            "\n",
            "Email 3 - Subject: Empowering Your Team with Customized Training Programs\n",
            "\n",
            "Dear Mustafa Shoukat,\n",
            "\n",
            "At our estimating company, we believe that investing in human capital is crucial for long-term success. We offer customized training programs for your staff, aiming to improve their estimating skills and knowledge.\n",
            "\n",
            "By empowering your team with the right tools and techniques, your company can foster growth and ensure sustainable success in the construction sector. Our training programs are designed with your unique needs in mind, ensuring maximum effectiveness and a seamless integration with your current processes.\n",
            "\n",
            "If you are interested in discussing our training programs further, please don't hesitate to reach out.\n",
            "\n",
            "Kind Regards,\n",
            "[Your Name]\n",
            "\n",
            "\n",
            "Email 4 - Subject: Dedicated Support and Proactive Communication\n",
            "\n",
            "Dear Mustafa Shoukat,\n",
            "\n",
            "As the President and CEO of COMET Estimating LLC, you have a lot on your plate. That's why we assign a dedicated account manager to each of our clients, ensuring personalized support and proactive communication.\n",
            "\n",
            "Your account manager will serve as your direct link to our team, ensuring a smooth and efficient collaboration. Additionally, they will work closely with your key personnel, such as John Doe and Jane Smith, to ensure that our services align with your company's objectives and culture.\n",
            "\n",
            "I would be more than happy to discuss our dedicated support and communication strategy with you in more detail.\n",
            "\n",
            "Sincerely,\n",
            "[Your Name]\u001b[0m\n",
            "\n",
            "\u001b[1m> Finished chain.\u001b[0m\n",
            "\u001b[1m\u001b[92m [DEBUG]: == [Lead Sales Representative] Task output: Email 1 - Subject: Enhancing Your Construction Budgeting and Cost Forecasting\n",
            "\n",
            "Dear Mustafa Shoukat,\n",
            "\n",
            "I hope this message finds you well. I am writing to introduce our estimating services, specifically tailored to address the budgeting and cost forecasting needs of your esteemed company, COMET Estimating LLC.\n",
            "\n",
            "With your ongoing large-scale projects, such as the hospital and commercial office building, we understand the importance of accurate budgeting and reliable cost forecasting. Our team provides up-to-date cost data, ensuring financial viability and resource allocation for your projects.\n",
            "\n",
            "By implementing advanced estimating techniques and tools, we can help minimize financial risks and maintain project profitability, allowing you to focus on what you do best – delivering high-quality projects on time and within budget.\n",
            "\n",
            "I would be delighted to schedule a call to discuss how our services can be customized to meet your unique needs and enhance your company's success.\n",
            "\n",
            "Best Regards,\n",
            "[Your Name]\n",
            "\n",
            "\n",
            "Email 2 - Subject: Securing New Contracts with Precise Bidding\n",
            "\n",
            "Dear Mustafa Shoukat,\n",
            "\n",
            "In the ever-competitive construction sector, securing new contracts is vital for growth and success. Our estimating services can help COMET Estimating LLC win new contracts by providing precise bidding that takes into account all project costs and risks.\n",
            "\n",
            "Our advanced estimating techniques and tools ensure bidding accuracy, giving you a competitive edge in the market. We are confident that our services will help you secure new contracts and expand your business, just as we have done for numerous other clients in the industry.\n",
            "\n",
            "Please let me know if you would be interested in learning more about how our estimating services can benefit your bidding process.\n",
            "\n",
            "Warm Regards,\n",
            "[Your Name]\n",
            "\n",
            "\n",
            "Email 3 - Subject: Empowering Your Team with Customized Training Programs\n",
            "\n",
            "Dear Mustafa Shoukat,\n",
            "\n",
            "At our estimating company, we believe that investing in human capital is crucial for long-term success. We offer customized training programs for your staff, aiming to improve their estimating skills and knowledge.\n",
            "\n",
            "By empowering your team with the right tools and techniques, your company can foster growth and ensure sustainable success in the construction sector. Our training programs are designed with your unique needs in mind, ensuring maximum effectiveness and a seamless integration with your current processes.\n",
            "\n",
            "If you are interested in discussing our training programs further, please don't hesitate to reach out.\n",
            "\n",
            "Kind Regards,\n",
            "[Your Name]\n",
            "\n",
            "\n",
            "Email 4 - Subject: Dedicated Support and Proactive Communication\n",
            "\n",
            "Dear Mustafa Shoukat,\n",
            "\n",
            "As the President and CEO of COMET Estimating LLC, you have a lot on your plate. That's why we assign a dedicated account manager to each of our clients, ensuring personalized support and proactive communication.\n",
            "\n",
            "Your account manager will serve as your direct link to our team, ensuring a smooth and efficient collaboration. Additionally, they will work closely with your key personnel, such as John Doe and Jane Smith, to ensure that our services align with your company's objectives and culture.\n",
            "\n",
            "I would be more than happy to discuss our dedicated support and communication strategy with you in more detail.\n",
            "\n",
            "Sincerely,\n",
            "[Your Name]\n",
            "\n",
            "\u001b[00m\n",
            "Email 1 - Subject: Enhancing Your Construction Budgeting and Cost Forecasting\n",
            "\n",
            "Dear Mustafa Shoukat,\n",
            "\n",
            "I hope this message finds you well. I am writing to introduce our estimating services, specifically tailored to address the budgeting and cost forecasting needs of your esteemed company, COMET Estimating LLC.\n",
            "\n",
            "With your ongoing large-scale projects, such as the hospital and commercial office building, we understand the importance of accurate budgeting and reliable cost forecasting. Our team provides up-to-date cost data, ensuring financial viability and resource allocation for your projects.\n",
            "\n",
            "By implementing advanced estimating techniques and tools, we can help minimize financial risks and maintain project profitability, allowing you to focus on what you do best – delivering high-quality projects on time and within budget.\n",
            "\n",
            "I would be delighted to schedule a call to discuss how our services can be customized to meet your unique needs and enhance your company's success.\n",
            "\n",
            "Best Regards,\n",
            "[Your Name]\n",
            "\n",
            "\n",
            "Email 2 - Subject: Securing New Contracts with Precise Bidding\n",
            "\n",
            "Dear Mustafa Shoukat,\n",
            "\n",
            "In the ever-competitive construction sector, securing new contracts is vital for growth and success. Our estimating services can help COMET Estimating LLC win new contracts by providing precise bidding that takes into account all project costs and risks.\n",
            "\n",
            "Our advanced estimating techniques and tools ensure bidding accuracy, giving you a competitive edge in the market. We are confident that our services will help you secure new contracts and expand your business, just as we have done for numerous other clients in the industry.\n",
            "\n",
            "Please let me know if you would be interested in learning more about how our estimating services can benefit your bidding process.\n",
            "\n",
            "Warm Regards,\n",
            "[Your Name]\n",
            "\n",
            "\n",
            "Email 3 - Subject: Empowering Your Team with Customized Training Programs\n",
            "\n",
            "Dear Mustafa Shoukat,\n",
            "\n",
            "At our estimating company, we believe that investing in human capital is crucial for long-term success. We offer customized training programs for your staff, aiming to improve their estimating skills and knowledge.\n",
            "\n",
            "By empowering your team with the right tools and techniques, your company can foster growth and ensure sustainable success in the construction sector. Our training programs are designed with your unique needs in mind, ensuring maximum effectiveness and a seamless integration with your current processes.\n",
            "\n",
            "If you are interested in discussing our training programs further, please don't hesitate to reach out.\n",
            "\n",
            "Kind Regards,\n",
            "[Your Name]\n",
            "\n",
            "\n",
            "Email 4 - Subject: Dedicated Support and Proactive Communication\n",
            "\n",
            "Dear Mustafa Shoukat,\n",
            "\n",
            "As the President and CEO of COMET Estimating LLC, you have a lot on your plate. That's why we assign a dedicated account manager to each of our clients, ensuring personalized support and proactive communication.\n",
            "\n",
            "Your account manager will serve as your direct link to our team, ensuring a smooth and efficient collaboration. Additionally, they will work closely with your key personnel, such as John Doe and Jane Smith, to ensure that our services align with your company's objectives and culture.\n",
            "\n",
            "I would be more than happy to discuss our dedicated support and communication strategy with you in more detail.\n",
            "\n",
            "Sincerely,\n",
            "[Your Name]\n"
          ]
        }
      ]
    },
    {
      "cell_type": "markdown",
      "metadata": {
        "id": "3jSWBXlqKHBB"
      },
      "source": [
        "The Personalized Outreach Task is using your custom Tool SentimentAnalysisTool, as well as crewAI's SerperDevTool (search_tool)."
      ]
    },
    {
      "cell_type": "code",
      "execution_count": 11,
      "metadata": {
        "colab": {
          "base_uri": "https://localhost:8080/",
          "height": 763
        },
        "id": "gWvbrLxXKafJ",
        "outputId": "46e0062c-b546-445f-faff-e24f662b6011"
      },
      "outputs": [
        {
          "output_type": "execute_result",
          "data": {
            "text/plain": [
              "<IPython.core.display.Markdown object>"
            ],
            "text/markdown": "Email 1 - Subject: Enhancing Your Construction Budgeting and Cost Forecasting\n\nDear Mustafa Shoukat,\n\nI hope this message finds you well. I am writing to introduce our estimating services, specifically tailored to address the budgeting and cost forecasting needs of your esteemed company, COMET Estimating LLC.\n\nWith your ongoing large-scale projects, such as the hospital and commercial office building, we understand the importance of accurate budgeting and reliable cost forecasting. Our team provides up-to-date cost data, ensuring financial viability and resource allocation for your projects.\n\nBy implementing advanced estimating techniques and tools, we can help minimize financial risks and maintain project profitability, allowing you to focus on what you do best – delivering high-quality projects on time and within budget.\n\nI would be delighted to schedule a call to discuss how our services can be customized to meet your unique needs and enhance your company's success.\n\nBest Regards,\n[Your Name]\n\n\nEmail 2 - Subject: Securing New Contracts with Precise Bidding\n\nDear Mustafa Shoukat,\n\nIn the ever-competitive construction sector, securing new contracts is vital for growth and success. Our estimating services can help COMET Estimating LLC win new contracts by providing precise bidding that takes into account all project costs and risks.\n\nOur advanced estimating techniques and tools ensure bidding accuracy, giving you a competitive edge in the market. We are confident that our services will help you secure new contracts and expand your business, just as we have done for numerous other clients in the industry.\n\nPlease let me know if you would be interested in learning more about how our estimating services can benefit your bidding process.\n\nWarm Regards,\n[Your Name]\n\n\nEmail 3 - Subject: Empowering Your Team with Customized Training Programs\n\nDear Mustafa Shoukat,\n\nAt our estimating company, we believe that investing in human capital is crucial for long-term success. We offer customized training programs for your staff, aiming to improve their estimating skills and knowledge.\n\nBy empowering your team with the right tools and techniques, your company can foster growth and ensure sustainable success in the construction sector. Our training programs are designed with your unique needs in mind, ensuring maximum effectiveness and a seamless integration with your current processes.\n\nIf you are interested in discussing our training programs further, please don't hesitate to reach out.\n\nKind Regards,\n[Your Name]\n\n\nEmail 4 - Subject: Dedicated Support and Proactive Communication\n\nDear Mustafa Shoukat,\n\nAs the President and CEO of COMET Estimating LLC, you have a lot on your plate. That's why we assign a dedicated account manager to each of our clients, ensuring personalized support and proactive communication.\n\nYour account manager will serve as your direct link to our team, ensuring a smooth and efficient collaboration. Additionally, they will work closely with your key personnel, such as John Doe and Jane Smith, to ensure that our services align with your company's objectives and culture.\n\nI would be more than happy to discuss our dedicated support and communication strategy with you in more detail.\n\nSincerely,\n[Your Name]"
          },
          "metadata": {},
          "execution_count": 11
        }
      ],
      "source": [
        "from IPython.display import Markdown\n",
        "Markdown(result)"
      ]
    },
    {
      "cell_type": "code",
      "source": [],
      "metadata": {
        "id": "CHO9OVo1xKOG"
      },
      "execution_count": 11,
      "outputs": []
    },
    {
      "cell_type": "code",
      "source": [
        "import gradio as gr\n",
        "\n",
        "\n",
        "def run_tasks(lead_name, industry, key_decision_maker, position, milestone):\n",
        "    # Set up inputs for the crew\n",
        "    inputs = {\n",
        "        \"lead_name\": lead_name,\n",
        "        \"industry\": industry,\n",
        "        \"key_decision_maker\": key_decision_maker,\n",
        "        \"position\": position,\n",
        "        \"milestone\": milestone\n",
        "    }\n",
        "\n",
        "    # Run the crew tasks\n",
        "    result = crew.kickoff(inputs=inputs)\n",
        "    return result\n",
        "\n",
        "# Create the Gradio interface\n",
        "iface = gr.Interface(\n",
        "    fn=run_tasks,\n",
        "    inputs=[\n",
        "        gr.Textbox(label=\"Lead Name\", placeholder=\"Enter the company name\"),\n",
        "        gr.Textbox(label=\"Industry\", placeholder=\"Enter the industry\"),\n",
        "        gr.Textbox(label=\"Key Decision Maker\", placeholder=\"Enter the name of the key decision maker\"),\n",
        "        gr.Textbox(label=\"Position\", placeholder=\"Enter the position of the key decision maker\"),\n",
        "        gr.Textbox(label=\"Milestone\", placeholder=\"Enter the milestone\")\n",
        "    ],\n",
        "    outputs=\"text\",\n",
        "    title=\"Sales Task Runner\",\n",
        "    description=\"Enter the company details to run the sales tasks and get the results.\"\n",
        ")\n",
        "\n",
        "# Launch the Gradio app\n",
        "iface.launch()\n"
      ],
      "metadata": {
        "colab": {
          "base_uri": "https://localhost:8080/",
          "height": 630
        },
        "id": "JJYpIr7YvyTw",
        "outputId": "951c5295-921e-41a3-d1fc-1eefe1509c12"
      },
      "execution_count": 12,
      "outputs": [
        {
          "output_type": "stream",
          "name": "stdout",
          "text": [
            "Setting queue=True in a Colab notebook requires sharing enabled. Setting `share=True` (you can turn this off by setting `share=False` in `launch()` explicitly).\n",
            "\n",
            "Colab notebook detected. To show errors in colab notebook, set debug=True in launch()\n",
            "Running on public URL: https://edf4ff0d12463d0125.gradio.live\n",
            "\n",
            "This share link expires in 72 hours. For free permanent hosting and GPU upgrades, run `gradio deploy` from Terminal to deploy to Spaces (https://huggingface.co/spaces)\n"
          ]
        },
        {
          "output_type": "display_data",
          "data": {
            "text/plain": [
              "<IPython.core.display.HTML object>"
            ],
            "text/html": [
              "<div><iframe src=\"https://edf4ff0d12463d0125.gradio.live\" width=\"100%\" height=\"500\" allow=\"autoplay; camera; microphone; clipboard-read; clipboard-write;\" frameborder=\"0\" allowfullscreen></iframe></div>"
            ]
          },
          "metadata": {}
        },
        {
          "output_type": "execute_result",
          "data": {
            "text/plain": []
          },
          "metadata": {},
          "execution_count": 12
        }
      ]
    },
    {
      "cell_type": "code",
      "source": [],
      "metadata": {
        "id": "rAKD9LQjtt7k"
      },
      "execution_count": 12,
      "outputs": []
    }
  ],
  "metadata": {
    "colab": {
      "provenance": [],
      "include_colab_link": true
    },
    "kernelspec": {
      "display_name": "Python 3",
      "name": "python3"
    },
    "language_info": {
      "name": "python"
    }
  },
  "nbformat": 4,
  "nbformat_minor": 0
}